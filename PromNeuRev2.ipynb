{
 "cells": [
  {
   "cell_type": "code",
   "execution_count": 3,
   "metadata": {},
   "outputs": [],
   "source": [
    "#!/usr/bin/env python\n",
    "#-*- coding:utf-8 -*-\n",
    "import sys\n",
    "import xlrd,re\n",
    "import csv\n",
    "file = xlrd.open_workbook(\"/Users/apple/Desktop/IGEM/post/neuron network/FullPromToNeu.xlsx\")\n",
    "sheet = file.sheet_by_index(0)\n",
    "rows = sheet.nrows\n",
    "NeuPro = []\n",
    "for row in range(rows):\n",
    "    NeuPro.append(sheet.row_values(row))\n",
    "\n",
    "ProNeu = {}\n",
    "for nPro in NeuPro:\n",
    "    Neuron = nPro[0]\n",
    "    for i in range(1,len(nPro)):\n",
    "        try:\n",
    "            ProNeu[nPro[i]].append(Neuron)\n",
    "        except KeyError:\n",
    "            ProNeu[nPro[i]] = [Neuron]\n",
    "\n",
    "sortedProNeu = []\n",
    "neurons = ProNeu.keys()\n",
    "for neu in neurons:\n",
    "    sortedProNeu.append([neu,ProNeu[neu],len(ProNeu[neu])])\n",
    "\n",
    "for i in range(1,len(sortedProNeu)):\n",
    "    neuron = sortedProNeu[i]\n",
    "    j = i-1\n",
    "    flag = True\n",
    "    while flag:\n",
    "        if sortedProNeu[i][2] < sortedProNeu[j][2]:\n",
    "            j = j-1\n",
    "            if j == -1:\n",
    "                flag = False\n",
    "        else:\n",
    "            flag = False\n",
    "    del sortedProNeu[i]\n",
    "    sortedProNeu.insert(j+1,neuron)\n",
    "\n",
    "\n",
    "\n",
    "csvfile = open('/Users/apple/Desktop/IGEM/post/neuron network/FullNeuronsPertainedToPromoter.csv','w',newline = '')\n",
    "csvfile_write = csv.writer(csvfile)\n",
    "'''\n",
    "for key in ProNeu.keys():\n",
    "    csvfile_write.writerow([key,ProNeu[key]])\n",
    "'''\n",
    "for i in sortedProNeu:\n",
    "    csvfile_write.writerow(i)\n",
    "\n"
   ]
  }
 ],
 "metadata": {
  "kernelspec": {
   "display_name": "Python 3",
   "language": "python",
   "name": "python3"
  },
  "language_info": {
   "codemirror_mode": {
    "name": "ipython",
    "version": 3
   },
   "file_extension": ".py",
   "mimetype": "text/x-python",
   "name": "python",
   "nbconvert_exporter": "python",
   "pygments_lexer": "ipython3",
   "version": "3.6.8"
  }
 },
 "nbformat": 4,
 "nbformat_minor": 2
}
